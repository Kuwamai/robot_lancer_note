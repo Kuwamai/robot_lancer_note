{
 "cells": [
  {
   "cell_type": "markdown",
   "metadata": {},
   "source": [
    "# Plot sensor value\n",
    "フォトリフレクタを用いて白線の位置を推定する。  \n",
    "4つのフォトリフレクタを左右対称に配置し、内側、外側のペアになっているセンサ値の差分から白線の位置を推定する。  \n",
    "白線を1mmずつ移動させ、各位置ごとにセンサ値の差分を33回取得した。  \n",
    "合計25回試行し、各位置の差分の平均、標準偏差を描画した。  "
   ]
  },
  {
   "cell_type": "code",
   "execution_count": 1,
   "metadata": {
    "collapsed": true
   },
   "outputs": [],
   "source": [
    "import numpy as np\n",
    "import matplotlib.pyplot as plt"
   ]
  },
  {
   "cell_type": "code",
   "execution_count": 2,
   "metadata": {},
   "outputs": [],
   "source": [
    "data = []\n",
    "data_num = 25\n",
    "for i in range(data_num):\n",
    "    data.append(np.loadtxt(\"data/\" + str(190 - i) + \".txt\"))"
   ]
  },
  {
   "cell_type": "code",
   "execution_count": 3,
   "metadata": {},
   "outputs": [],
   "source": [
    "inside_means = []\n",
    "outside_means = []\n",
    "\n",
    "inside_sigmas = []\n",
    "outside_sigmas = []\n",
    "\n",
    "for i in data:\n",
    "    inside_mean = 0\n",
    "    outside_mean = 0\n",
    "    \n",
    "    # 平均値を計算\n",
    "    for e in i:\n",
    "        inside_mean  += (e[3] - e[2]) / len(i)\n",
    "        outside_mean += (e[4] - e[1]) / len(i)\n",
    "    \n",
    "    inside_means.append(inside_mean)\n",
    "    outside_means.append(outside_mean)\n",
    "    \n",
    "    inside_sigma = 0\n",
    "    outside_sigma = 0\n",
    "    \n",
    "    # 標準偏差を計算\n",
    "    for e in i:\n",
    "        inside_sigma  += ((e[3] - e[2]) - inside_mean) ** 2\n",
    "        outside_sigma += ((e[4] - e[1]) - outside_mean) ** 2\n",
    "        \n",
    "    inside_sigma = np.sqrt(inside_sigma)\n",
    "    outside_sigma = np.sqrt(outside_sigma)\n",
    "    \n",
    "    inside_sigmas.append(inside_sigma)\n",
    "    outside_sigmas.append(outside_sigma)"
   ]
  },
  {
   "cell_type": "code",
   "execution_count": 4,
   "metadata": {},
   "outputs": [
    {
     "data": {
      "image/png": "[encoded data removed]",
      "text/plain": [
       "<matplotlib.figure.Figure at 0x109855080>"
      ]
     },
     "metadata": {},
     "output_type": "display_data"
    }
   ],
   "source": [
    "# 内側のセンサ値を描画\n",
    "\n",
    "plt.errorbar(np.arange(0, len(inside_means), 1), inside_means, yerr=inside_sigmas,ecolor='skyblue')\n",
    "plt.show()"
   ]
  },
  {
   "cell_type": "code",
   "execution_count": 5,
   "metadata": {},
   "outputs": [
    {
     "data": {
      "image/png": "[encoded data removed]",
      "text/plain": [
       "<matplotlib.figure.Figure at 0x109970630>"
      ]
     },
     "metadata": {},
     "output_type": "display_data"
    }
   ],
   "source": [
    "# 外側のセンサ値を描画\n",
    "\n",
    "plt.errorbar(np.arange(0, len(outside_means), 1), outside_means, yerr=inside_sigmas,ecolor='skyblue')\n",
    "plt.show()"
   ]
  },
  {
   "cell_type": "code",
   "execution_count": null,
   "metadata": {
    "collapsed": true
   },
   "outputs": [],
   "source": []
  }
 ],
 "metadata": {
  "kernelspec": {
   "display_name": "Python 3",
   "language": "python",
   "name": "python3"
  },
  "language_info": {
   "codemirror_mode": {
    "name": "ipython",
    "version": 3
   },
   "file_extension": ".py",
   "mimetype": "text/x-python",
   "name": "python",
   "nbconvert_exporter": "python",
   "pygments_lexer": "ipython3",
   "version": "3.6.1"
  }
 },
 "nbformat": 4,
 "nbformat_minor": 2
}
